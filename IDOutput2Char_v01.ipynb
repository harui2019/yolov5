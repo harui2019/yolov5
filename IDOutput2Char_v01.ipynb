{
 "cells": [
  {
   "cell_type": "markdown",
   "metadata": {},
   "source": [
    "# InvoiceDetectOutput_to_CharSheet_v0.1"
   ]
  },
  {
   "cell_type": "code",
   "execution_count": 47,
   "metadata": {},
   "outputs": [
    {
     "name": "stdout",
     "output_type": "stream",
     "text": [
      "------------------------------\n",
      " ### Modules import\n",
      "Detect Google Colab Environment...\n",
      "No module named 'google.colab',it's not in Colab.\n",
      " - Number of Classes ------------ False\n",
      "\n",
      "import torch\n",
      " - Torch CUDA available --------- True\n",
      ">>> Using torch 1.9.0 _CudaDeviceProperties(name='NVIDIA GeForce GTX 1660 Ti', major=7, minor=5, total_memory=6144MB, multi_processor_count=24)\n",
      "\n",
      "pylab inline (jupyter command)\n",
      "Populating the interactive namespace from numpy and matplotlib\n",
      "\n",
      "import os, yaml, json\n",
      "\n",
      "import pandas as pd\n",
      "\n",
      "import IPython tool:\n",
      "Image: for displaying images\n",
      "register_line_cell_magic: \n",
      "\n",
      "Modules import completed...\n",
      " - Current Directory ------------\n",
      ">>> C:\\Users\\huai\\.homejupyter\\ShangHai-FarEast\\yolov5\n"
     ]
    }
   ],
   "source": [
    "print(\"-\"*30+\"\\n ### Modules import\")\n",
    "print(\"Detect Google Colab Environment...\")\n",
    "isColab = True\n",
    "try:\n",
    "    from google.colab import drive\n",
    "    drive.mount('/content/drive')\n",
    "except ModuleNotFoundError as e:\n",
    "    print(\"{},it's not in Colab.\".format(e))\n",
    "    isColab = False\n",
    "print(\" - Number of Classes ------------ {}\".format(isColab)+'\\n')\n",
    "print(\"import torch\")\n",
    "import torch\n",
    "print(\" - Torch CUDA available --------- {}\".format(torch.cuda.is_available()))\n",
    "print(\">>> \"+'Using torch %s %s'%(\n",
    "    torch.__version__, torch.cuda.get_device_properties(0) if torch.cuda.is_available() else 'CPU'\n",
    ")+'\\n')\n",
    "print(\"pylab inline (jupyter command)\")\n",
    "%pylab inline\n",
    "print(\"\\nimport os, yaml, json\")\n",
    "import os, yaml, json, re\n",
    "print(\"\\nimport pandas as pd\")\n",
    "import pandas as pd\n",
    "print(\"\\nimport IPython tool:\")\n",
    "print(\"Image: for displaying images\")\n",
    "print(\"register_line_cell_magic: \")\n",
    "from IPython.display import Image  # for displaying images\n",
    "from IPython.core.magic import register_line_cell_magic\n",
    "print(\"\\nModules import completed...\")\n",
    "\n",
    "print(\" - Current Directory ------------\"+\"\\n>>> \"+os.getcwd())"
   ]
  },
  {
   "cell_type": "code",
   "execution_count": 2,
   "metadata": {},
   "outputs": [],
   "source": [
    "def universal_cmd(cmd: \"\"):\n",
    "    try:\n",
    "        try:\n",
    "            get_ipython().magic(\"%\"+cmd)\n",
    "        except :\n",
    "            get_ipython().system(cmd)\n",
    "    except:\n",
    "        os.system(cmd)\n",
    "        \n",
    "def JsonRead(path):\n",
    "    with open(path, 'r', encoding='utf-8') as JsonStr:\n",
    "        return json.load(JsonStr)\n",
    "    \n",
    "def fileprint(txtfile):\n",
    "    print(\"-\"*15+\" File Name \"+\"-\"*15)\n",
    "    print(\">>> \"+txtfile)\n",
    "    print(\"-\"*15+\" File Init \"+\"-\"*15)\n",
    "    with open(txtfile, 'r') as openfile:\n",
    "        linelist = list(openfile)\n",
    "        [ print(\n",
    "            \"{}> \".format((str(i)+\" \").ljust(4,' ')+'>')+\n",
    "            linelist[i].replace(\"\\n\", \"\")\n",
    "        )  for i in range(len(linelist)) ]\n",
    "    print(\"-\"*15+\" File End  \"+\"-\"*15)\n",
    "    \n",
    "# Environ Set\n",
    "if __name__ == \"__main__\":\n",
    "    if isColab:\n",
    "        universal_cmd('rm -r \"yolov5\"')\n",
    "        universal_cmd('git clone https://github.com/ultralytics/yolov5')\n",
    "        universal_cmd('pip install -U -r yolov5/requirements.txt --user5')\n",
    "    else:\n",
    "        print(\"It's not in Colab.\")\n",
    "    universal_cmd('cd ./yolov5')\n",
    "    print(\" - Current Directory ------------\"+\"\\n>>> \"+os.getcwd())"
   ]
  },
  {
   "cell_type": "markdown",
   "metadata": {},
   "source": [
    "## Data Preparation\n",
    " - Mainly for colab feature Google Drive"
   ]
  },
  {
   "cell_type": "code",
   "execution_count": 5,
   "metadata": {},
   "outputs": [
    {
     "name": "stdout",
     "output_type": "stream",
     "text": [
      "Checking Current Directory\n",
      "C:\\Users\\huai\\.homejupyter\\ShangHai-FarEast\\yolov5\n"
     ]
    }
   ],
   "source": [
    "print(\"Checking Current Directory\")\n",
    "print(os.getcwd())"
   ]
  },
  {
   "cell_type": "code",
   "execution_count": 26,
   "metadata": {},
   "outputs": [
    {
     "name": "stdout",
     "output_type": "stream",
     "text": [
      "It's not in Colab.\n",
      "'AllLabel.json' has found\n"
     ]
    }
   ],
   "source": [
    "# Set\n",
    "FileType = [\n",
    "    \"ID\", \"IDOutput\"\n",
    "][1]\n",
    "\n",
    "\n",
    "# FilePath\n",
    "ArchivedFilesPath = './content/drive/MyDrive/FarEast-ShangHai/'\n",
    "ArchivedFilesName = '10to17.zip'\n",
    "DisarchivedFolder = ArchivedFilesName.replace('.zip', '')\n",
    "DestinationPath = './'\n",
    "\n",
    "OutputJsonPath = './runs/detect/'\n",
    "ExpFolderName = 'exp52/'\n",
    "\n",
    "# Following Variables Do Not Need To Set\n",
    "AllLabelPath = [\n",
    "    OutputJsonPath+ExpFolderName+'AllLabel.json',\n",
    "    OutputJsonPath+ExpFolderName+'Labelclass.json'\n",
    "]\n",
    "if __name__ == \"__main__\":\n",
    "    if isColab:\n",
    "        for i in ['data.yaml', 'test', 'valid', 'train']:\n",
    "            universal_cmd('mv ./{}/{} {}'.format(DisarchivedFolder ,i ,DestinationPath))\n",
    "        for i in [DisarchivedFolder, '__MACOSX']:\n",
    "            universal_cmd('rm -r ./{}'.format(i))\n",
    "    else:\n",
    "        print(\"It's not in Colab.\")\n",
    "    \n",
    "    if os.path.exists(AllLabelPath):\n",
    "        print(\"'AllLabel.json' has found\")\n",
    "    else:\n",
    "        if FileType == \"IDOutput\"\n",
    "            raise FileNotFoundError(\"Please Check the directory of 'AllLabel.json', or whether it has been export correctly.\")"
   ]
  },
  {
   "cell_type": "code",
   "execution_count": 54,
   "metadata": {
    "scrolled": true,
    "tags": []
   },
   "outputs": [
    {
     "name": "stdout",
     "output_type": "stream",
     "text": [
      "Using torch 1.9.0 _CudaDeviceProperties(name='NVIDIA GeForce GTX 1660 Ti', major=7, minor=5, total_memory=6144MB, multi_processor_count=24)\n",
      "\n",
      "------------------------------------------------------------\n",
      " ### DataSet Checking\n",
      "'AllLabel.json' has found\n",
      "\n",
      "------------------------------------------------------------\n",
      " ### Check Trainning Output\n",
      " 磁碟區 C 中的磁碟是 Windows\n",
      " 磁碟區序號:  F479-6555\n",
      "\n",
      " C:\\Users\\huai\\.homejupyter\\ShangHai-FarEast\\yolov5 的目錄\n",
      "\n",
      "2021/07/27  下午 04:15    <DIR>          .\n",
      "2021/07/27  下午 04:15    <DIR>          ..\n",
      "2021/07/16  下午 02:30             3,833 .dockerignore\n",
      "2021/07/22  下午 10:17            10,244 .DS_Store\n",
      "2021/07/16  下午 02:30                77 .gitattributes\n",
      "2021/07/16  下午 02:30    <DIR>          .github\n",
      "2021/07/22  下午 03:22           594,863 .gitignore\n",
      "2021/07/27  下午 02:37    <DIR>          .ipynb_checkpoints\n",
      "2021/07/24  上午 02:42    <DIR>          __pycache__\n",
      "2021/07/16  下午 02:30             5,021 CONTRIBUTING.md\n",
      "2021/07/16  下午 02:30    <DIR>          data\n",
      "2021/07/24  上午 03:23               213 data.yaml\n",
      "2021/07/22  下午 04:42            11,350 detect.py\n",
      "2021/07/26  上午 10:02            12,427 detect-modify.py\n",
      "2021/07/16  下午 02:30             1,783 Dockerfile\n",
      "2021/07/22  下午 03:25             8,004 export.py\n",
      "2021/07/16  下午 02:30             5,785 hubconf.py\n",
      "2021/07/27  下午 04:15            20,580 IDOutput2Char_v01.ipynb\n",
      "2021/07/16  下午 02:30            35,799 LICENSE\n",
      "2021/07/22  下午 03:25    <DIR>          models\n",
      "2021/07/19  下午 01:13            13,926 README.md\n",
      "2021/07/22  下午 03:25               734 requirements.txt\n",
      "2021/07/20  上午 09:25    <DIR>          runs\n",
      "2021/07/24  上午 03:08    <DIR>          test\n",
      "2021/07/24  上午 03:24    <DIR>          train\n",
      "2021/07/22  下午 03:25            34,959 train.py\n",
      "2021/07/22  下午 03:25           394,584 tutorial.ipynb\n",
      "2021/07/22  下午 03:25    <DIR>          utils\n",
      "2021/07/22  下午 03:25            17,221 val.py\n",
      "2021/07/24  上午 03:09    <DIR>          valid\n",
      "2021/07/24  上午 03:23    <DIR>          wandb\n",
      "              18 個檔案       1,171,403 位元組\n",
      "              13 個目錄  137,070,469,120 位元組可用\n",
      "\n",
      "------------------------------------------------------------\n",
      " ### 'data.yaml'\n",
      "--------------- File Name ---------------\n",
      ">>> data.yaml\n",
      "--------------- File Init ---------------\n",
      "0   >> names:\n",
      "1   >> - 10_blue_train\n",
      "2   >> - 11_red_train\n",
      "3   >> - 12_normal_vat\n",
      "4   >> - 13_airport\n",
      "5   >> - 14_quota_receipt\n",
      "6   >> - 15_machine-taxi\n",
      "7   >> - 16_machine\n",
      "8   >> - 17_taxi\n",
      "9   >> - 18_bus\n",
      "10  >> - 19_toll_fee\n",
      "11  >> nc: 10\n",
      "12  >> train: ./train/images\n",
      "13  >> val: ./train/images\n",
      "--------------- File End  ---------------\n",
      "\n",
      "------------------------------------------------------------\n",
      " ### YAML processing\n",
      " - Number of Classes ------------ 10\n",
      " - Label of Classes ------------- \n",
      ">>> 10_blue_train\n",
      ">>> 11_red_train\n",
      ">>> 12_normal_vat\n",
      ">>> 13_airport\n",
      ">>> 14_quota_receipt\n",
      ">>> 15_machine-taxi\n",
      ">>> 16_machine\n",
      ">>> 17_taxi\n",
      ">>> 18_bus\n",
      ">>> 19_toll_fee\n",
      "\n",
      "------------------------------------------------------------\n",
      " ### Check 'yolov5s.yaml' Setting\n",
      "--------------- File Name ---------------\n",
      ">>> ./models/yolov5s.yaml\n",
      "--------------- File Init ---------------\n",
      "0   >> # Parameters\n",
      "1   >> nc: 80  # number of classes\n",
      "2   >> depth_multiple: 0.33  # model depth multiple\n",
      "3   >> width_multiple: 0.50  # layer channel multiple\n",
      "4   >> anchors:\n",
      "5   >>   - [10,13, 16,30, 33,23]  # P3/8\n",
      "6   >>   - [30,61, 62,45, 59,119]  # P4/16\n",
      "7   >>   - [116,90, 156,198, 373,326]  # P5/32\n",
      "8   >> \n",
      "9   >> # YOLOv5 backbone\n",
      "10  >> backbone:\n",
      "11  >>   # [from, number, module, args]\n",
      "12  >>   [[-1, 1, Focus, [64, 3]],  # 0-P1/2\n",
      "13  >>    [-1, 1, Conv, [128, 3, 2]],  # 1-P2/4\n",
      "14  >>    [-1, 3, C3, [128]],\n",
      "15  >>    [-1, 1, Conv, [256, 3, 2]],  # 3-P3/8\n",
      "16  >>    [-1, 9, C3, [256]],\n",
      "17  >>    [-1, 1, Conv, [512, 3, 2]],  # 5-P4/16\n",
      "18  >>    [-1, 9, C3, [512]],\n",
      "19  >>    [-1, 1, Conv, [1024, 3, 2]],  # 7-P5/32\n",
      "20  >>    [-1, 1, SPP, [1024, [5, 9, 13]]],\n",
      "21  >>    [-1, 3, C3, [1024, False]],  # 9\n",
      "22  >>   ]\n",
      "23  >> \n",
      "24  >> # YOLOv5 head\n",
      "25  >> head:\n",
      "26  >>   [[-1, 1, Conv, [512, 1, 1]],\n",
      "27  >>    [-1, 1, nn.Upsample, [None, 2, 'nearest']],\n",
      "28  >>    [[-1, 6], 1, Concat, [1]],  # cat backbone P4\n",
      "29  >>    [-1, 3, C3, [512, False]],  # 13\n",
      "30  >> \n",
      "31  >>    [-1, 1, Conv, [256, 1, 1]],\n",
      "32  >>    [-1, 1, nn.Upsample, [None, 2, 'nearest']],\n",
      "33  >>    [[-1, 4], 1, Concat, [1]],  # cat backbone P3\n",
      "34  >>    [-1, 3, C3, [256, False]],  # 17 (P3/8-small)\n",
      "35  >> \n",
      "36  >>    [-1, 1, Conv, [256, 3, 2]],\n",
      "37  >>    [[-1, 14], 1, Concat, [1]],  # cat head P4\n",
      "38  >>    [-1, 3, C3, [512, False]],  # 20 (P4/16-medium)\n",
      "39  >> \n",
      "40  >>    [-1, 1, Conv, [512, 3, 2]],\n",
      "41  >>    [[-1, 10], 1, Concat, [1]],  # cat head P5\n",
      "42  >>    [-1, 3, C3, [1024, False]],  # 23 (P5/32-large)\n",
      "43  >> \n",
      "44  >>    [[17, 20, 23], 1, Detect, [nc, anchors]],  # Detect(P3, P4, P5)\n",
      "45  >>   ]\n",
      "--------------- File End  ---------------\n"
     ]
    }
   ],
   "source": [
    "def dataSetCheck():\n",
    "    currentdir = os.getcwd()\n",
    "    print(\" - Current Directory ------------ \")\n",
    "    print(\">>> \"+currentdir)\n",
    "    \n",
    "    print(\" - File Checking ---------------- \")\n",
    "    if not 'yolov5' in currentdir[-10:]:\n",
    "        os.chdir('yolov5')\n",
    "        print(\"Change dir to './yolov5'\")\n",
    "    for filePath in [\n",
    "        \"./data.yaml\", \"./test/\",\n",
    "        \"./valid/\", \"./train/\" , \"./runs/train/\" ]:\n",
    "        if os.path.exists(filePath):\n",
    "            print(\"'{}' confirm.\".format(filePath))\n",
    "        else:\n",
    "            print(\"''{}'' no found\".format(filePath))\n",
    "            return False\n",
    "    print(\"The data was ready.\")\n",
    "    return True\n",
    "\n",
    "def labelOutputCheck():\n",
    "    if not os.path.exists(AllLabelPath[0]):\n",
    "        print(\"'AllLabel.json' has found\")\n",
    "    else:\n",
    "        return False\n",
    "    \n",
    "    if not os.path.exists(AllLabelPath[1]):\n",
    "        print(\"'Labelclass.json' has found\")\n",
    "    else:\n",
    "        return False\n",
    "    return True\n",
    "        \n",
    "def labelclassCheck():\n",
    "    with open(r'data.yaml') as file:\n",
    "        # The FullLoader parameter handles the conversion from YAML\n",
    "        # scalar values to Python the dictionary format\n",
    "        globals()['labels_list'] = (\n",
    "            yaml.load(file, Loader=yaml.FullLoader) if not isColab\n",
    "            else yaml.load(file)\n",
    "        )\n",
    "        globals()['label_names'] = labels_list['names']\n",
    "    print(\" - Number of Classes ------------ {}\".format(num_classes))\n",
    "    print(\" - Label of Classes ------------- \")\n",
    "    [print(\">>> \"+i) for i in label_names]\n",
    "        \n",
    "# Ready Check ---------------------------------------------\n",
    "def readyCheck():\n",
    "    print('Using torch %s %s' % (\n",
    "    torch.__version__, torch.cuda.get_device_properties(0) if torch.cuda.is_available() else 'CPU'\n",
    "))\n",
    "    print(\"\\n\"+\"-\"*60+\"\\n ### DataSet Checking\") # ------------------------\n",
    "    # if not dataSetCheck():\n",
    "    #     raise KeyboardInterrupt(\"Files no found, pausing the script.\")\n",
    "    \n",
    "    if FileType == \"ID\":\n",
    "        print(\"\\n\"+\"-\"*60+\"\\n ### Check Trainning Output\")\n",
    "        universal_cmd('ls')\n",
    "        print(\"\\n\"+\"-\"*60+\"\\n ### 'data.yaml'\")\n",
    "        fileprint('data.yaml')\n",
    "        with open(\"data.yaml\", 'r') as stream:\n",
    "            globals()['num_classes'] = str(yaml.safe_load(stream)['nc'])\n",
    "        print(\"\\n\"+\"-\"*60+\"\\n ### YAML processing\")\n",
    "        labelclassCheck()\n",
    "        print(\"\\n\"+\"-\"*60+\"\\n ### Check 'yolov5s.yaml' Setting\")\n",
    "        # this is the model configuration we will use for our tutorial \n",
    "        # yolov5s.yaml contains the configuration of neural network required for training.\n",
    "        fileprint(\"./models/yolov5s.yaml\")\n",
    "        \n",
    "    if FileType == \"IDOutut\":\n",
    "        if not labelOutputCheck():\n",
    "            raise FileNotFoundError(\n",
    "                \"Please Check the directory of 'AllLabel.json' and 'LabelClass.json', or whether it has been export correctly.\"\n",
    "            )\n",
    "    \n",
    "# ---------------------------------------------------------\n",
    "# define number of classes based on YAML\n",
    "# data.yaml contains the information about number of classes and their labels required for this project\n",
    "\n",
    "readyCheck()"
   ]
  },
  {
   "cell_type": "markdown",
   "metadata": {},
   "source": [
    "## Main"
   ]
  },
  {
   "cell_type": "code",
   "execution_count": 22,
   "metadata": {},
   "outputs": [
    {
     "data": {
      "text/plain": [
       "'__main__'"
      ]
     },
     "execution_count": 22,
     "metadata": {},
     "output_type": "execute_result"
    }
   ],
   "source": [
    "__name__"
   ]
  },
  {
   "cell_type": "markdown",
   "metadata": {},
   "source": [
    "## Json2Csv"
   ]
  },
  {
   "cell_type": "code",
   "execution_count": 40,
   "metadata": {},
   "outputs": [],
   "source": [
    "DataSet = JsonRead(AllLabelPath[0])\n",
    "DataSet = JsonRead(AllLabelPath[1])"
   ]
  },
  {
   "cell_type": "code",
   "execution_count": 51,
   "metadata": {},
   "outputs": [
    {
     "data": {
      "text/plain": [
       "{'name': '----15-_png_jpg.rf.2d21a18dd968d1ccd1035b5bb4f3cc8a.jpg',\n",
       " 'class': {'0': {'subclass_str': '52_oval_stamp',\n",
       "   'subclass_num': '2',\n",
       "   'loc': [0.416992, 0.790385, 0.142578, 0.280769],\n",
       "   'score': 0.546769},\n",
       "  '1': {'subclass_str': '52_oval_stamp',\n",
       "   'subclass_num': '2',\n",
       "   'loc': [0.501953, 0.136538, 0.152344, 0.211538],\n",
       "   'score': 0.871713}}}"
      ]
     },
     "execution_count": 51,
     "metadata": {},
     "output_type": "execute_result"
    }
   ],
   "source": [
    "DataSet['0']"
   ]
  },
  {
   "cell_type": "code",
   "execution_count": 45,
   "metadata": {},
   "outputs": [
    {
     "data": {
      "text/plain": [
       "793"
      ]
     },
     "execution_count": 45,
     "metadata": {},
     "output_type": "execute_result"
    }
   ],
   "source": [
    "len(DataSet)"
   ]
  },
  {
   "cell_type": "code",
   "execution_count": 58,
   "metadata": {},
   "outputs": [
    {
     "data": {
      "text/plain": [
       "['10_blue_train',\n",
       " '11_red_train',\n",
       " '12_normal_vat',\n",
       " '13_airport',\n",
       " '14_quota_receipt',\n",
       " '15_machine-taxi',\n",
       " '16_machine',\n",
       " '17_taxi',\n",
       " '18_bus',\n",
       " '19_toll_fee']"
      ]
     },
     "execution_count": 58,
     "metadata": {},
     "output_type": "execute_result"
    }
   ],
   "source": [
    "labels_list['names']"
   ]
  },
  {
   "cell_type": "code",
   "execution_count": 73,
   "metadata": {},
   "outputs": [],
   "source": [
    "df2 = pd.DataFrame(\n",
    "    np.array([[1, 2, 3], [4, 5, 6], [7, 8, 9]]),\n",
    "    columns=['77', '33', '55']\n",
    ")"
   ]
  },
  {
   "cell_type": "code",
   "execution_count": 67,
   "metadata": {},
   "outputs": [],
   "source": [
    "df2.loc[2,'d']=0"
   ]
  },
  {
   "cell_type": "code",
   "execution_count": 68,
   "metadata": {},
   "outputs": [
    {
     "data": {
      "text/html": [
       "<div>\n",
       "<style scoped>\n",
       "    .dataframe tbody tr th:only-of-type {\n",
       "        vertical-align: middle;\n",
       "    }\n",
       "\n",
       "    .dataframe tbody tr th {\n",
       "        vertical-align: top;\n",
       "    }\n",
       "\n",
       "    .dataframe thead th {\n",
       "        text-align: right;\n",
       "    }\n",
       "</style>\n",
       "<table border=\"1\" class=\"dataframe\">\n",
       "  <thead>\n",
       "    <tr style=\"text-align: right;\">\n",
       "      <th></th>\n",
       "      <th>a</th>\n",
       "      <th>b</th>\n",
       "      <th>c</th>\n",
       "      <th>d</th>\n",
       "    </tr>\n",
       "  </thead>\n",
       "  <tbody>\n",
       "    <tr>\n",
       "      <th>0</th>\n",
       "      <td>1</td>\n",
       "      <td>2</td>\n",
       "      <td>3</td>\n",
       "      <td>NaN</td>\n",
       "    </tr>\n",
       "    <tr>\n",
       "      <th>1</th>\n",
       "      <td>4</td>\n",
       "      <td>5</td>\n",
       "      <td>6</td>\n",
       "      <td>NaN</td>\n",
       "    </tr>\n",
       "    <tr>\n",
       "      <th>2</th>\n",
       "      <td>7</td>\n",
       "      <td>8</td>\n",
       "      <td>9</td>\n",
       "      <td>0.0</td>\n",
       "    </tr>\n",
       "  </tbody>\n",
       "</table>\n",
       "</div>"
      ],
      "text/plain": [
       "   a  b  c    d\n",
       "0  1  2  3  NaN\n",
       "1  4  5  6  NaN\n",
       "2  7  8  9  0.0"
      ]
     },
     "execution_count": 68,
     "metadata": {},
     "output_type": "execute_result"
    }
   ],
   "source": [
    "df2"
   ]
  },
  {
   "cell_type": "code",
   "execution_count": 77,
   "metadata": {},
   "outputs": [
    {
     "data": {
      "text/plain": [
       "['77', '33', '55']"
      ]
     },
     "execution_count": 77,
     "metadata": {},
     "output_type": "execute_result"
    }
   ],
   "source": [
    "[ i[0:2] for i in df2.columns ]"
   ]
  },
  {
   "cell_type": "code",
   "execution_count": null,
   "metadata": {},
   "outputs": [],
   "source": []
  }
 ],
 "metadata": {
  "kernelspec": {
   "display_name": "Python 3",
   "language": "python",
   "name": "python3"
  },
  "language_info": {
   "codemirror_mode": {
    "name": "ipython",
    "version": 3
   },
   "file_extension": ".py",
   "mimetype": "text/x-python",
   "name": "python",
   "nbconvert_exporter": "python",
   "pygments_lexer": "ipython3",
   "version": "3.8.5"
  }
 },
 "nbformat": 4,
 "nbformat_minor": 4
}
